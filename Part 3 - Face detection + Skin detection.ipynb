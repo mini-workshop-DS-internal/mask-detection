{
 "cells": [
  {
   "cell_type": "code",
   "execution_count": 1,
   "metadata": {},
   "outputs": [],
   "source": [
    "import cv2\n",
    "from utils import detect_face, calculate_skin_percent"
   ]
  },
  {
   "cell_type": "code",
   "execution_count": 2,
   "metadata": {},
   "outputs": [],
   "source": [
    "net = cv2.dnn.readNetFromTensorflow(\"model/opencv_pretrained_face_detector_uint8.pb\", \n",
    "                                    \"model/opencv_pretrained_face_detector.pbtxt\")"
   ]
  },
  {
   "cell_type": "code",
   "execution_count": 3,
   "metadata": {},
   "outputs": [
    {
     "name": "stderr",
     "output_type": "stream",
     "text": [
      "/Users/yurio/keurseus/Mask detection/utils.py:25: RuntimeWarning: Mean of empty slice.\n",
      "  mean = img.reshape(-1, 3).mean(0).reshape(1, 1, -1)\n",
      "/usr/local/anaconda3/envs/mask_detection/lib/python3.7/site-packages/numpy/core/_methods.py:154: RuntimeWarning: invalid value encountered in true_divide\n",
      "  ret, rcount, out=ret, casting='unsafe', subok=False)\n",
      "/usr/local/anaconda3/envs/mask_detection/lib/python3.7/site-packages/numpy/core/_methods.py:217: RuntimeWarning: Degrees of freedom <= 0 for slice\n",
      "  keepdims=keepdims)\n",
      "/usr/local/anaconda3/envs/mask_detection/lib/python3.7/site-packages/numpy/core/_methods.py:186: RuntimeWarning: invalid value encountered in true_divide\n",
      "  arrmean, rcount, out=arrmean, casting='unsafe', subok=False)\n",
      "/usr/local/anaconda3/envs/mask_detection/lib/python3.7/site-packages/numpy/core/_methods.py:207: RuntimeWarning: invalid value encountered in true_divide\n",
      "  ret, rcount, out=ret, casting='unsafe', subok=False)\n",
      "/Users/yurio/keurseus/Mask detection/utils.py:40: RuntimeWarning: Mean of empty slice.\n",
      "  skin_percent = skin.mean()\n",
      "/usr/local/anaconda3/envs/mask_detection/lib/python3.7/site-packages/numpy/core/_methods.py:161: RuntimeWarning: invalid value encountered in double_scalars\n",
      "  ret = ret.dtype.type(ret / rcount)\n"
     ]
    }
   ],
   "source": [
    "cam = cv2.VideoCapture(0)\n",
    "\n",
    "while True:\n",
    "    ret, frame = cam.read()\n",
    "    if ret:\n",
    "        bbox = detect_face(net, frame)\n",
    "        for x1, y1, x2, y2 in bbox:\n",
    "            face = frame[y1:y2, x1:x2, :].copy()\n",
    "            \n",
    "            pct = calculate_skin_percent(face)\n",
    "            if pct > 0.42:\n",
    "                cv2.putText(frame, \"Tolong pakai masker\", (x1, y1), cv2.FONT_HERSHEY_SIMPLEX, 0.5, (255, 255, 255), 1)\n",
    "            else:\n",
    "                cv2.putText(frame, \"Good job\", (x1, y1), cv2.FONT_HERSHEY_SIMPLEX, 0.5, (255, 255, 255), 1)                \n",
    "            cv2.rectangle(frame, (x1, y1), (x2, y2), (0, 255, 255), 1)\n",
    "        cv2.imshow(\"Face detection\", frame)\n",
    "        \n",
    "        key = cv2.waitKey(1)\n",
    "        if key == ord(\"q\"):\n",
    "            break\n",
    "    else:\n",
    "        break\n",
    "cam.release()"
   ]
  },
  {
   "cell_type": "code",
   "execution_count": null,
   "metadata": {},
   "outputs": [],
   "source": []
  }
 ],
 "metadata": {
  "kernelspec": {
   "display_name": "Python [conda env:mask_detection]",
   "language": "python",
   "name": "conda-env-mask_detection-py"
  },
  "language_info": {
   "codemirror_mode": {
    "name": "ipython",
    "version": 3
   },
   "file_extension": ".py",
   "mimetype": "text/x-python",
   "name": "python",
   "nbconvert_exporter": "python",
   "pygments_lexer": "ipython3",
   "version": "3.7.6"
  }
 },
 "nbformat": 4,
 "nbformat_minor": 2
}
