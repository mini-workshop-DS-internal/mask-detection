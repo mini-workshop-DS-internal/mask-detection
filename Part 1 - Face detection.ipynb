{
 "cells": [
  {
   "cell_type": "code",
   "execution_count": 1,
   "metadata": {},
   "outputs": [],
   "source": [
    "import cv2\n",
    "import numpy as np"
   ]
  },
  {
   "cell_type": "code",
   "execution_count": 2,
   "metadata": {},
   "outputs": [],
   "source": [
    "net = cv2.dnn.readNetFromTensorflow(\"model/opencv_pretrained_face_detector_uint8.pb\", \n",
    "                                    \"model/opencv_pretrained_face_detector.pbtxt\")"
   ]
  },
  {
   "cell_type": "code",
   "execution_count": 3,
   "metadata": {},
   "outputs": [],
   "source": [
    "def detect_face(frame):\n",
    "    h, w, c = frame.shape\n",
    "    blob = cv2.dnn.blobFromImage(frame, 1, (300, 300), [104, 117, 123], False, False)\n",
    "    \n",
    "    net.setInput(blob)\n",
    "    \n",
    "    # Feedforward\n",
    "    #    SSD mengeluarkan output (1, 1, 200, 7) -> ada 200 prediksi\n",
    "    #    [image_id, label, conf, x_min, y_min, x_max, y_max]\n",
    "    detections = net.forward()\n",
    "\n",
    "    bbox = []\n",
    "    for _, _, conf, x1, y1, x2, y2 in detections[0, 0]:\n",
    "        if conf > 0.7:\n",
    "            box = np.array([x1, y1, x2, y2]) * [w, h, w, h]\n",
    "            bbox.append(box.astype(int))    \n",
    "    return bbox"
   ]
  },
  {
   "cell_type": "code",
   "execution_count": 4,
   "metadata": {},
   "outputs": [],
   "source": [
    "cam = cv2.VideoCapture(0)"
   ]
  },
  {
   "cell_type": "code",
   "execution_count": 5,
   "metadata": {},
   "outputs": [],
   "source": [
    "while True:\n",
    "    ret, frame = cam.read()\n",
    "    if ret:\n",
    "        bbox = detect_face(frame)\n",
    "        for x1, y1, x2, y2 in bbox:\n",
    "            cv2.rectangle(frame, (x1, y1), (x2, y2), (0, 255, 255), 1)\n",
    "        cv2.imshow(\"Face detection\", frame)\n",
    "        \n",
    "        key = cv2.waitKey(1)\n",
    "        if key == ord(\"q\"):\n",
    "            break\n",
    "    else:\n",
    "        break\n",
    "cam.release()"
   ]
  },
  {
   "cell_type": "code",
   "execution_count": 6,
   "metadata": {},
   "outputs": [
    {
     "data": {
      "text/plain": [
       "True"
      ]
     },
     "execution_count": 6,
     "metadata": {},
     "output_type": "execute_result"
    }
   ],
   "source": [
    "cv2.imwrite(\"coba.jpg\", frame[y1:y2, x1:x2, :])"
   ]
  },
  {
   "cell_type": "code",
   "execution_count": null,
   "metadata": {},
   "outputs": [],
   "source": []
  }
 ],
 "metadata": {
  "kernelspec": {
   "display_name": "Python [conda env:mask_detection]",
   "language": "python",
   "name": "conda-env-mask_detection-py"
  },
  "language_info": {
   "codemirror_mode": {
    "name": "ipython",
    "version": 3
   },
   "file_extension": ".py",
   "mimetype": "text/x-python",
   "name": "python",
   "nbconvert_exporter": "python",
   "pygments_lexer": "ipython3",
   "version": "3.7.6"
  }
 },
 "nbformat": 4,
 "nbformat_minor": 2
}
